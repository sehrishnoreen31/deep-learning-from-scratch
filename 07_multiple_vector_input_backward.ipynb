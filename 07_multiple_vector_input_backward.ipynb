{
 "cells": [
  {
   "cell_type": "code",
   "execution_count": 1,
   "id": "1f8aed40",
   "metadata": {},
   "outputs": [],
   "source": [
    "import numpy as np\n",
    "from numpy import ndarray"
   ]
  },
  {
   "cell_type": "code",
   "execution_count": null,
   "id": "247ad6c8",
   "metadata": {},
   "outputs": [
    {
     "name": "stdout",
     "output_type": "stream",
     "text": [
      "(1, 3)\n",
      "(3, 1)\n",
      "forward:  46\n",
      "backward:  [[8 5 4]]\n"
     ]
    }
   ],
   "source": [
    "def matmul_backward_first(X: ndarray, W: ndarray) -> ndarray:\n",
    "    assert X.shape[1] == W.shape[0]\n",
    "    N = np.dot(X, W)\n",
    "    # derivative of n wrt x\n",
    "    dndx = np.transpose(W, (1,0))\n",
    "    return N , dndx\n",
    "\n",
    "# x , a row vector\n",
    "x = np.array([[4,2,1]])\n",
    "# w , a col vector\n",
    "w = np.array([[8], [5], [4]])\n",
    "print(x.shape)\n",
    "print(w.shape)\n",
    "forward, backward = matmul_backward_first(x, w)\n",
    "print('forward: ', forward.item())\n",
    "print('backward: ', backward)"
   ]
  },
  {
   "cell_type": "code",
   "execution_count": 16,
   "id": "2365e2b2",
   "metadata": {},
   "outputs": [
    {
     "name": "stdout",
     "output_type": "stream",
     "text": [
      "(1, 3)\n",
      "(3, 1)\n",
      "forward:  54\n",
      "backward:  [[8 5 4]]\n"
     ]
    }
   ],
   "source": [
    "# changing x1 a unit, output changed by 8\n",
    "# x1 + 1\n",
    "x = np.array([[5,2,1]])\n",
    "w = np.array([[8], [5], [4]])\n",
    "print(x.shape)\n",
    "print(w.shape)\n",
    "forward, backward = matmul_backward_first(x, w)\n",
    "print('forward: ', forward.item())\n",
    "print('backward: ', backward)"
   ]
  },
  {
   "cell_type": "code",
   "execution_count": 18,
   "id": "e1ca7829",
   "metadata": {},
   "outputs": [
    {
     "name": "stdout",
     "output_type": "stream",
     "text": [
      "(1, 3)\n",
      "(3, 1)\n",
      "forward:  59\n",
      "backward:  [[8 5 4]]\n"
     ]
    }
   ],
   "source": [
    "# changing x2 a unit, output changed by 5\n",
    "# x2 + 1\n",
    "x = np.array([[5,3,1]])\n",
    "w = np.array([[8], [5], [4]])\n",
    "print(x.shape)\n",
    "print(w.shape)\n",
    "forward, backward = matmul_backward_first(x, w)\n",
    "print('forward: ', forward.item())\n",
    "print('backward: ', backward)"
   ]
  },
  {
   "cell_type": "code",
   "execution_count": 19,
   "id": "669554ca",
   "metadata": {},
   "outputs": [
    {
     "name": "stdout",
     "output_type": "stream",
     "text": [
      "(1, 3)\n",
      "(3, 1)\n",
      "forward:  63\n",
      "backward:  [[8 5 4]]\n"
     ]
    }
   ],
   "source": [
    "# changing x3 a unit, output changed by 4\n",
    "# x3 + 1\n",
    "x = np.array([[5,3,2]])\n",
    "w = np.array([[8], [5], [4]])\n",
    "print(x.shape)\n",
    "print(w.shape)\n",
    "forward, backward = matmul_backward_first(x, w)\n",
    "print('forward: ', forward.item())\n",
    "print('backward: ', backward)"
   ]
  }
 ],
 "metadata": {
  "kernelspec": {
   "display_name": ".dlfsvenv",
   "language": "python",
   "name": "python3"
  },
  "language_info": {
   "codemirror_mode": {
    "name": "ipython",
    "version": 3
   },
   "file_extension": ".py",
   "mimetype": "text/x-python",
   "name": "python",
   "nbconvert_exporter": "python",
   "pygments_lexer": "ipython3",
   "version": "3.13.1"
  }
 },
 "nbformat": 4,
 "nbformat_minor": 5
}
