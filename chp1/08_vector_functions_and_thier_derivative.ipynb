{
 "cells": [
  {
   "cell_type": "code",
   "execution_count": 1,
   "id": "5624f896",
   "metadata": {},
   "outputs": [],
   "source": [
    "import numpy as np\n",
    "from numpy import ndarray\n",
    "from typing import Callable"
   ]
  },
  {
   "cell_type": "code",
   "execution_count": 24,
   "id": "df25f2db",
   "metadata": {},
   "outputs": [
    {
     "name": "stdout",
     "output_type": "stream",
     "text": [
      "example 1:  [[46]] [[8 5 4]] [[1.]]\n",
      "example 2:  [[-0.1]] [[1 2 1]] [[0.48]]\n"
     ]
    }
   ],
   "source": [
    "def matrix_forward_extra(X: ndarray, W: ndarray, func: Callable[[ndarray], [ndarray]]) -> ndarray:\n",
    "    assert X.shape[1] == W.shape[0]\n",
    "    N = np.dot(X, W)\n",
    "    B = np.transpose(W, (1,0))\n",
    "    S = func(N)\n",
    "    return N,B,S\n",
    "\n",
    "def sigmoid(x: ndarray)-> ndarray:\n",
    "    return (1 / (1 + np.exp(-x)))\n",
    "\n",
    "x = np.array([[4,2,1]])\n",
    "w = np.array([[8], [5], [4]])\n",
    "forward, backward ,sig = matrix_forward_extra(x, w, sigmoid)\n",
    "print('example 1: ', forward, backward, sig)\n",
    "\n",
    "x = np.array([[0.2, 0.1, -0.5]])\n",
    "w = np.array([[1], [2], [1]])\n",
    "forward, backward ,sig = matrix_forward_extra(x, w, sigmoid)\n",
    "print('example 2: ', forward, backward, sig.round(2))"
   ]
  }
 ],
 "metadata": {
  "kernelspec": {
   "display_name": ".dlfsvenv",
   "language": "python",
   "name": "python3"
  },
  "language_info": {
   "codemirror_mode": {
    "name": "ipython",
    "version": 3
   },
   "file_extension": ".py",
   "mimetype": "text/x-python",
   "name": "python",
   "nbconvert_exporter": "python",
   "pygments_lexer": "ipython3",
   "version": "3.13.1"
  }
 },
 "nbformat": 4,
 "nbformat_minor": 5
}
