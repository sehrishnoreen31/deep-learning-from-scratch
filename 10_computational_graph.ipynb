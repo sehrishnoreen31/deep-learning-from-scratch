{
 "cells": [
  {
   "cell_type": "code",
   "execution_count": 3,
   "id": "3134fdc5",
   "metadata": {},
   "outputs": [],
   "source": [
    "import numpy as np\n",
    "from numpy import ndarray\n",
    "from typing import Callable\n",
    "from s_utils import sigmoid, deriv"
   ]
  },
  {
   "cell_type": "code",
   "execution_count": 4,
   "id": "359cbebe",
   "metadata": {},
   "outputs": [
    {
     "data": {
      "text/plain": [
       "'matmul:'"
      ]
     },
     "metadata": {},
     "output_type": "display_data"
    },
    {
     "data": {
      "text/plain": [
       "array([[ 1.6 , -0.2 ],\n",
       "       [-1.2 ,  1.05],\n",
       "       [ 0.2 ,  0.4 ]])"
      ]
     },
     "metadata": {},
     "output_type": "display_data"
    },
    {
     "data": {
      "text/plain": [
       "'sigmoid:'"
      ]
     },
     "metadata": {},
     "output_type": "display_data"
    },
    {
     "data": {
      "text/plain": [
       "array([[0.83201839, 0.450166  ],\n",
       "       [0.23147522, 0.7407749 ],\n",
       "       [0.549834  , 0.59868766]])"
      ]
     },
     "metadata": {},
     "output_type": "display_data"
    },
    {
     "data": {
      "text/plain": [
       "'sum:'"
      ]
     },
     "metadata": {},
     "output_type": "display_data"
    },
    {
     "data": {
      "text/plain": [
       "np.float64(3.403)"
      ]
     },
     "metadata": {},
     "output_type": "display_data"
    }
   ],
   "source": [
    "def matrix_function_forward_sum(X: ndarray, W: ndarray, func:Callable[[ndarray], ndarray]) -> float:\n",
    "    assert X.shape[1] == W.shape[0]\n",
    "    # multiply\n",
    "    N = np.dot(X, W)\n",
    "    # apply sigmoid function on each element\n",
    "    S = func(N)\n",
    "    # sum all elements\n",
    "    L = np.sum(S)\n",
    "    return N, S, L\n",
    "\n",
    "# test\n",
    "x = np.array([\n",
    "    [1.0, 2.0, -1.0],\n",
    "    [0.5, -1.0, 2.0],\n",
    "    [3.0, 0.0, 1.0]\n",
    "])   # shape (3,3)\n",
    "\n",
    "w = np.array([\n",
    "    [0.2, -0.1],\n",
    "    [0.5,  0.3],\n",
    "    [-0.4, 0.7]\n",
    "])   # shape (3,2)\n",
    "\n",
    "N, S, L = matrix_function_forward_sum(x, w, sigmoid)\n",
    "display('matmul:', N)\n",
    "display('sigmoid:', S)\n",
    "display('sum:', round(L, 3))\n"
   ]
  },
  {
   "cell_type": "code",
   "execution_count": null,
   "id": "ee6f05c9",
   "metadata": {},
   "outputs": [
    {
     "data": {
      "text/plain": [
       "'forward:'"
      ]
     },
     "metadata": {},
     "output_type": "display_data"
    },
    {
     "data": {
      "text/plain": [
       "np.float64(3.403)"
      ]
     },
     "metadata": {},
     "output_type": "display_data"
    },
    {
     "data": {
      "text/plain": [
       "'backward:'"
      ]
     },
     "metadata": {},
     "output_type": "display_data"
    },
    {
     "data": {
      "text/plain": [
       "array([[0.0032011 , 0.14413686, 0.11735607],\n",
       "       [0.01637614, 0.14655545, 0.06326143],\n",
       "       [0.02547724, 0.19583649, 0.06917589]])"
      ]
     },
     "metadata": {},
     "output_type": "display_data"
    }
   ],
   "source": [
    "def matrix_function_backward_sum_1(X: ndarray, W: ndarray, func:Callable[[ndarray], ndarray]) -> ndarray:\n",
    "    assert X.shape[1] == W.shape[0]\n",
    "    # forward pass\n",
    "    # multiply\n",
    "    N = np.dot(X, W)\n",
    "    # apply sigmoid function on each element\n",
    "    S = func(N)\n",
    "    # sum all elements\n",
    "    L = np.sum(S)\n",
    "    \n",
    "    # backward pass\n",
    "    dLdS = np.ones_like(S)\n",
    "    dSdN = deriv(func, N)\n",
    "    dLdN = dLdS * dSdN\n",
    "    dNdX = np.transpose(W, (1,0))\n",
    "    # dLdX = np.dot(dSdN, dNdX)\n",
    "    dLdX = np.dot(dLdN, dNdX)\n",
    "    \n",
    "    return L , dLdX\n",
    "\n",
    "# test\n",
    "x = np.array([\n",
    "    [1.0, 2.0, -1.0],\n",
    "    [0.5, -1.0, 2.0],\n",
    "    [3.0, 0.0, 1.0]\n",
    "])   # shape (3,3)\n",
    "\n",
    "w = np.array([\n",
    "    [0.2, -0.1],\n",
    "    [0.5,  0.3],\n",
    "    [-0.4, 0.7]\n",
    "])   # shape (3,2)\n",
    "\n",
    "L , dLdX = matrix_function_backward_sum_1(x, w, sigmoid)\n",
    "display('forward:', round(L, 3))\n",
    "display('backward:', dLdX)"
   ]
  },
  {
   "cell_type": "code",
   "execution_count": 20,
   "id": "787258a9",
   "metadata": {},
   "outputs": [
    {
     "data": {
      "text/plain": [
       "'X:'"
      ]
     },
     "metadata": {},
     "output_type": "display_data"
    },
    {
     "data": {
      "text/plain": [
       "array([[-1.57752816, -0.6664228 ,  0.63910406],\n",
       "       [-0.56152218,  0.73729959, -1.42307821],\n",
       "       [-1.44348429, -0.39128029,  0.1539322 ]])"
      ]
     },
     "metadata": {},
     "output_type": "display_data"
    },
    {
     "data": {
      "text/plain": [
       "'W:'"
      ]
     },
     "metadata": {},
     "output_type": "display_data"
    },
    {
     "data": {
      "text/plain": [
       "array([[ 0.75510818,  0.25562492],\n",
       "       [-0.56109271, -0.97504841],\n",
       "       [ 0.98098478, -0.95870776]])"
      ]
     },
     "metadata": {},
     "output_type": "display_data"
    },
    {
     "data": {
      "text/plain": [
       "'L'"
      ]
     },
     "metadata": {},
     "output_type": "display_data"
    },
    {
     "data": {
      "text/plain": [
       "np.float64(2.3755)"
      ]
     },
     "metadata": {},
     "output_type": "display_data"
    },
    {
     "data": {
      "text/plain": [
       "'dLdX'"
      ]
     },
     "metadata": {},
     "output_type": "display_data"
    },
    {
     "data": {
      "text/plain": [
       "array([[ 0.2488887 , -0.37478057,  0.01121962],\n",
       "       [ 0.12604152, -0.27807404, -0.13945837],\n",
       "       [ 0.22992798, -0.36623443, -0.02252592]])"
      ]
     },
     "metadata": {},
     "output_type": "display_data"
    }
   ],
   "source": [
    "np.random.seed(190204)\n",
    "X = np.random.randn(3, 3)\n",
    "W = np.random.randn(3, 2)\n",
    "display('X:', X)\n",
    "display('W:', W)\n",
    "L , dLdX = matrix_function_backward_sum_1(X, W , sigmoid)\n",
    "display('L', round(L, 4))\n",
    "display('dLdX', dLdX)"
   ]
  }
 ],
 "metadata": {
  "kernelspec": {
   "display_name": ".dlfsvenv",
   "language": "python",
   "name": "python3"
  },
  "language_info": {
   "codemirror_mode": {
    "name": "ipython",
    "version": 3
   },
   "file_extension": ".py",
   "mimetype": "text/x-python",
   "name": "python",
   "nbconvert_exporter": "python",
   "pygments_lexer": "ipython3",
   "version": "3.13.1"
  }
 },
 "nbformat": 4,
 "nbformat_minor": 5
}
