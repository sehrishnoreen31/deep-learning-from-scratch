{
 "cells": [
  {
   "cell_type": "code",
   "execution_count": 3,
   "id": "3134fdc5",
   "metadata": {},
   "outputs": [],
   "source": [
    "import numpy as np\n",
    "from numpy import ndarray\n",
    "from typing import Callable\n",
    "from s_utils import sigmoid"
   ]
  },
  {
   "cell_type": "code",
   "execution_count": 6,
   "id": "359cbebe",
   "metadata": {},
   "outputs": [
    {
     "data": {
      "text/plain": [
       "'matmul: '"
      ]
     },
     "metadata": {},
     "output_type": "display_data"
    },
    {
     "data": {
      "text/plain": [
       "array([[ 1.6 , -0.2 ],\n",
       "       [-1.2 ,  1.05],\n",
       "       [ 0.2 ,  0.4 ]])"
      ]
     },
     "metadata": {},
     "output_type": "display_data"
    },
    {
     "data": {
      "text/plain": [
       "'sigmoid: '"
      ]
     },
     "metadata": {},
     "output_type": "display_data"
    },
    {
     "data": {
      "text/plain": [
       "array([[0.83201839, 0.450166  ],\n",
       "       [0.23147522, 0.7407749 ],\n",
       "       [0.549834  , 0.59868766]])"
      ]
     },
     "metadata": {},
     "output_type": "display_data"
    },
    {
     "data": {
      "text/plain": [
       "'sum: '"
      ]
     },
     "metadata": {},
     "output_type": "display_data"
    },
    {
     "data": {
      "text/plain": [
       "np.float64(3.402956160929513)"
      ]
     },
     "metadata": {},
     "output_type": "display_data"
    }
   ],
   "source": [
    "def matrix_function_forward_sum(X: ndarray, W: ndarray, func:Callable[[ndarray], ndarray]) -> float:\n",
    "    assert X.shape[1] == W.shape[0]\n",
    "    # multiply\n",
    "    N = np.dot(X, W)\n",
    "    # apply sigmoid on each element\n",
    "    S = func(N)\n",
    "    # sum all elements\n",
    "    L = np.sum(S)\n",
    "    return N, S, L\n",
    "\n",
    "# test\n",
    "x = np.array([\n",
    "    [1.0, 2.0, -1.0],\n",
    "    [0.5, -1.0, 2.0],\n",
    "    [3.0, 0.0, 1.0]\n",
    "])   # shape (3,3)\n",
    "\n",
    "w = np.array([\n",
    "    [0.2, -0.1],\n",
    "    [0.5,  0.3],\n",
    "    [-0.4, 0.7]\n",
    "])   # shape (3,2)\n",
    "\n",
    "N, S, L = matrix_function_forward_sum(x, w, sigmoid)\n",
    "display('matmul: ', N)\n",
    "display('sigmoid: ', S)\n",
    "display('sum: ', L)\n"
   ]
  }
 ],
 "metadata": {
  "kernelspec": {
   "display_name": ".dlfsvenv",
   "language": "python",
   "name": "python3"
  },
  "language_info": {
   "codemirror_mode": {
    "name": "ipython",
    "version": 3
   },
   "file_extension": ".py",
   "mimetype": "text/x-python",
   "name": "python",
   "nbconvert_exporter": "python",
   "pygments_lexer": "ipython3",
   "version": "3.13.1"
  }
 },
 "nbformat": 4,
 "nbformat_minor": 5
}
