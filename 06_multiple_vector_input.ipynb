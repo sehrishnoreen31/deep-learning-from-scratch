{
 "cells": [
  {
   "cell_type": "code",
   "execution_count": 1,
   "id": "1f8aed40",
   "metadata": {},
   "outputs": [],
   "source": [
    "import numpy as np\n",
    "from numpy import ndarray"
   ]
  },
  {
   "cell_type": "code",
   "execution_count": 7,
   "id": "247ad6c8",
   "metadata": {},
   "outputs": [
    {
     "name": "stdout",
     "output_type": "stream",
     "text": [
      "(1, 3)\n",
      "(3, 1)\n",
      "46\n"
     ]
    }
   ],
   "source": [
    "def matmul_forward(X: ndarray, W: ndarray) -> ndarray:\n",
    "    assert X.shape[1] == W.shape[0]\n",
    "    N = np.dot(X, W)\n",
    "    return N\n",
    "\n",
    "# x , a row vector\n",
    "x = np.array([[4,2,1]])\n",
    "w = np.array([[8], [5], [4]])\n",
    "print(x.shape)\n",
    "print(w.shape)\n",
    "print(matmul_forward(x, w).item())"
   ]
  }
 ],
 "metadata": {
  "kernelspec": {
   "display_name": ".dlfsvenv",
   "language": "python",
   "name": "python3"
  },
  "language_info": {
   "codemirror_mode": {
    "name": "ipython",
    "version": 3
   },
   "file_extension": ".py",
   "mimetype": "text/x-python",
   "name": "python",
   "nbconvert_exporter": "python",
   "pygments_lexer": "ipython3",
   "version": "3.13.1"
  }
 },
 "nbformat": 4,
 "nbformat_minor": 5
}
