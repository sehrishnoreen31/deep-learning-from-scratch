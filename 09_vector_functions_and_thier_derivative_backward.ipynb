{
 "cells": [
  {
   "cell_type": "code",
   "execution_count": 1,
   "id": "5624f896",
   "metadata": {},
   "outputs": [],
   "source": [
    "import numpy as np\n",
    "from numpy import ndarray\n",
    "from typing import Callable\n",
    "from s_utils import deriv, sigmoid"
   ]
  },
  {
   "cell_type": "code",
   "execution_count": 15,
   "id": "df25f2db",
   "metadata": {},
   "outputs": [
    {
     "name": "stdout",
     "output_type": "stream",
     "text": [
      "example 1:  (array([[1.3]]), array([[0.78583498]])) [[0.03365967 0.01682984 0.05048951]]\n",
      "example 2:  (array([[-0.1]]), array([[0.47502081]])) [[0.24937602 0.49875204 0.24937602]]\n",
      "example 3:  (array([[46]]), array([[1.]])) [[0. 0. 0.]]\n"
     ]
    }
   ],
   "source": [
    "def matrix_function_backward(X: ndarray, W: ndarray, func: Callable[[ndarray], [ndarray]]) -> ndarray:\n",
    "    assert X.shape[1] == W.shape[0]\n",
    "    # forward pass\n",
    "    N = np.dot(X, W)\n",
    "    S = func(N)\n",
    "    \n",
    "    # backward pass, chain rule\n",
    "    # deriv of sigmoid wrt N, outer func\n",
    "    dsdn = deriv(func, N)\n",
    "    # deriv of N wrt X, inner func\n",
    "    dndx = np.transpose(W, (1, 0))\n",
    "    # multilply both\n",
    "    return (N,S),(dsdn*dndx)\n",
    "\n",
    "x = np.array([[4,2,1]])\n",
    "w = np.array([[0.2], [0.1], [0.3]])\n",
    "forward1, backward1 = matrix_function_backward(x, w, sigmoid)\n",
    "print('example 1: ', forward1, backward1)\n",
    "x = np.array([[0.2, 0.1, -0.5]])\n",
    "w = np.array([[1], [2], [1]])\n",
    "forward2, backward2 = matrix_function_backward(x, w, sigmoid)\n",
    "print('example 2: ', forward2, backward2)\n",
    "x = np.array([[4,2,1]])\n",
    "w = np.array([[8], [5], [4]])\n",
    "forward3, backward3 = matrix_function_backward(x, w, sigmoid)\n",
    "print('example 3: ', forward3, backward3) # vanishing grad in sigmoid"
   ]
  }
 ],
 "metadata": {
  "kernelspec": {
   "display_name": ".dlfsvenv",
   "language": "python",
   "name": "python3"
  },
  "language_info": {
   "codemirror_mode": {
    "name": "ipython",
    "version": 3
   },
   "file_extension": ".py",
   "mimetype": "text/x-python",
   "name": "python",
   "nbconvert_exporter": "python",
   "pygments_lexer": "ipython3",
   "version": "3.13.1"
  }
 },
 "nbformat": 4,
 "nbformat_minor": 5
}
