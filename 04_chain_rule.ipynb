{
 "cells": [
  {
   "cell_type": "code",
   "execution_count": 59,
   "id": "eb70097c",
   "metadata": {},
   "outputs": [],
   "source": [
    "import numpy as np\n",
    "from numpy import ndarray\n",
    "from typing import Callable, List"
   ]
  },
  {
   "cell_type": "code",
   "execution_count": 60,
   "id": "b1a598af",
   "metadata": {},
   "outputs": [
    {
     "name": "stdout",
     "output_type": "stream",
     "text": [
      "[27.000001 12.000001  0.030001]\n",
      "[6.  4.  0.2]\n"
     ]
    }
   ],
   "source": [
    "# derivative\n",
    "def deriv(func: Callable[[ndarray], ndarray], _input: ndarray, delta:float=0.001) -> ndarray:\n",
    "    return (func(_input + delta) - func(_input - delta)) / (delta * 2)\n",
    "def cube(x: ndarray) -> ndarray:\n",
    "    return x ** 3\n",
    "def square(x: ndarray) -> ndarray:\n",
    "    return x ** 2\n",
    "print(deriv(func=cube, _input=np.array([3,2,0.1])))\n",
    "print(deriv(func=square, _input=np.array([3,2,0.1])))"
   ]
  },
  {
   "cell_type": "markdown",
   "id": "1813785b",
   "metadata": {},
   "source": [
    "## Chain Rule\n",
    "chain of 2:\n",
    "\n",
    "F′(x) = f2′​(f1​(x)) ⋅ f1′​(x)\n",
    "\n",
    "chain of 3:\n",
    "\n",
    "F′(x) = f3′​(f2​(f1​(x))) ⋅ f2′​(f1​(x)) ⋅ f1′​(x)"
   ]
  },
  {
   "cell_type": "code",
   "execution_count": 61,
   "id": "4405f7da",
   "metadata": {},
   "outputs": [
    {
     "name": "stdout",
     "output_type": "stream",
     "text": [
      "[1.92000016e+02 6.00000200e+00 6.14400013e+03]\n"
     ]
    }
   ],
   "source": [
    "# chain of 2\n",
    "array_func = Callable[[ndarray], ndarray]\n",
    "chain = List[array_func]\n",
    "\n",
    "def chain_deriv_2(chain: chain, _input: ndarray) -> ndarray:\n",
    "    assert len(chain) == 2 # 2 composite fs\n",
    "    assert _input.ndim == 1 # 1-dim input [3,2,1]\n",
    "    # arrange chain\n",
    "    f1 = chain[0]\n",
    "    f2 = chain[1]\n",
    "\n",
    "    # chain rule\n",
    "    dx = deriv(f2, f1(_input))  * deriv(f1, _input)\n",
    "    return dx\n",
    "chain_2 = [cube, square]\n",
    "print(chain_deriv_2(chain=chain_2, _input=np.array([2,1,4])))"
   ]
  },
  {
   "cell_type": "code",
   "execution_count": 62,
   "id": "2e1e2f5b",
   "metadata": {},
   "outputs": [
    {
     "name": "stdout",
     "output_type": "stream",
     "text": [
      "[  1458.00000596 100842.00040122    192.000004  ]\n"
     ]
    }
   ],
   "source": [
    "# chain rule 3\n",
    "array_func = Callable[[ndarray], ndarray]\n",
    "chain = List[array_func]\n",
    "\n",
    "def chain_deriv_3(chain: chain, _input: ndarray) -> ndarray:\n",
    "    assert len(chain) == 3 # 3 composite fs\n",
    "    assert _input.ndim == 1 # 1-dim input [3,2,1]\n",
    "    # arrange chain\n",
    "    f1 = chain[0]\n",
    "    f2 = chain[1]\n",
    "    f3 = chain[2]\n",
    "\n",
    "    # chain rule\n",
    "    dx =  deriv(f3, f2(f1(_input))) * deriv(f2, f1(_input))  * deriv(f1, _input)\n",
    "    return dx\n",
    "\n",
    "def relu(x: ndarray) -> ndarray:\n",
    "    return np.maximum(0, x)\n",
    "\n",
    "chain_3 = [square, cube, relu]\n",
    "print(chain_deriv_3(chain=chain_3, _input=np.array([3,7,2])))"
   ]
  }
 ],
 "metadata": {
  "kernelspec": {
   "display_name": ".dlfsvenv",
   "language": "python",
   "name": "python3"
  },
  "language_info": {
   "codemirror_mode": {
    "name": "ipython",
    "version": 3
   },
   "file_extension": ".py",
   "mimetype": "text/x-python",
   "name": "python",
   "nbconvert_exporter": "python",
   "pygments_lexer": "ipython3",
   "version": "3.13.1"
  }
 },
 "nbformat": 4,
 "nbformat_minor": 5
}
