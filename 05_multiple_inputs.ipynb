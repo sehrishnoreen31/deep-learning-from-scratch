{
 "cells": [
  {
   "cell_type": "code",
   "execution_count": 1,
   "id": "eb70097c",
   "metadata": {},
   "outputs": [],
   "source": [
    "import numpy as np\n",
    "from numpy import ndarray\n",
    "from typing import Callable, List"
   ]
  },
  {
   "cell_type": "markdown",
   "id": "31307320",
   "metadata": {},
   "source": [
    "## Derivative"
   ]
  },
  {
   "cell_type": "code",
   "execution_count": 56,
   "id": "b1a598af",
   "metadata": {},
   "outputs": [
    {
     "name": "stdout",
     "output_type": "stream",
     "text": [
      "[27.009001 12.006001  0.030301]\n",
      "[6.001 4.001 0.201]\n",
      "[1. 1. 1.]\n",
      "[0.04515622 0.10495361 0.24936979]\n"
     ]
    }
   ],
   "source": [
    "# derivative\n",
    "def deriv(func: Callable[[ndarray], ndarray], _input: ndarray, delta:float=0.001) -> ndarray:\n",
    "    return (func(_input + delta) - func(_input)) / delta\n",
    "def cube(x: ndarray) -> ndarray:\n",
    "    return x ** 3\n",
    "def square(x: ndarray) -> ndarray:\n",
    "    return x ** 2\n",
    "def relu(x: ndarray) -> ndarray:\n",
    "    return np.maximum(0, x)\n",
    "def sigmoid(x: ndarray)-> ndarray:\n",
    "    return (1 / (1 + np.exp(-x)))\n",
    "print(deriv(func=cube, _input=np.array([3,2,0.1])))\n",
    "print(deriv(func=square, _input=np.array([3,2,0.1])))\n",
    "print(deriv(func=relu, _input=np.array([3,2,0.1])))\n",
    "print(deriv(func=sigmoid, _input=np.array([3,2,0.1])))"
   ]
  },
  {
   "cell_type": "code",
   "execution_count": 57,
   "id": "4405f7da",
   "metadata": {},
   "outputs": [],
   "source": [
    "array_func = Callable[[ndarray], ndarray]\n",
    "def multiple_inputs_add(x: ndarray, y: ndarray, sig: array_func) -> float:\n",
    "    # assume both x and y have same shape\n",
    "    assert x.shape == y.shape\n",
    "    z = x + y \n",
    "    return sig(z)"
   ]
  },
  {
   "cell_type": "code",
   "execution_count": 58,
   "id": "5a832a0d",
   "metadata": {},
   "outputs": [
    {
     "name": "stdout",
     "output_type": "stream",
     "text": [
      "[0.99752738 0.88079708 0.99966465]\n"
     ]
    }
   ],
   "source": [
    "print(multiple_inputs_add(x=np.array([2,1,4]), y=np.array([4,1,4]), sig=sigmoid))"
   ]
  },
  {
   "cell_type": "markdown",
   "id": "d6053554",
   "metadata": {},
   "source": [
    "## Derivative "
   ]
  },
  {
   "cell_type": "code",
   "execution_count": 59,
   "id": "9e26daee",
   "metadata": {},
   "outputs": [
    {
     "name": "stdout",
     "output_type": "stream",
     "text": [
      "forward:  [0.99752738 0.88079708 0.99966465]\n",
      "backward:  (array([0.00246528, 0.10495361, 0.00033507]), array([0.00246528, 0.10495361, 0.00033507]))\n"
     ]
    }
   ],
   "source": [
    "# for addition\n",
    "def multiple_inputs_add_backward(x: ndarray, y: ndarray, sig: array_func):\n",
    "    # forward pass\n",
    "    a = x + y\n",
    "    out = sig(a)\n",
    "    \n",
    "    # backward pass, \n",
    "    # derivative of sig wrt input a\n",
    "    dsda = deriv(sig, a)\n",
    "    # derivative of a wrt x and y\n",
    "    dadx, dady = 1, 1\n",
    "    dx, dy = dsda * dadx, dsda * dady\n",
    "    return (out,  (dx, dy))\n",
    "\n",
    "forward, backward = multiple_inputs_add_backward(x=np.array([2,1,4]), y=np.array([4,1,4]), sig=sigmoid)\n",
    "print('forward: ', forward)\n",
    "print('backward: ', backward)"
   ]
  },
  {
   "cell_type": "code",
   "execution_count": 60,
   "id": "e2d5760c",
   "metadata": {},
   "outputs": [
    {
     "name": "stdout",
     "output_type": "stream",
     "text": [
      "forward:  [0.99966465 0.73105858 0.99999989]\n",
      "backward:  (array([1.34028088e-03, 1.96566498e-01, 4.49915660e-07]), array([6.70140440e-04, 1.96566498e-01, 4.49915660e-07]))\n"
     ]
    }
   ],
   "source": [
    "# for multiplication\n",
    "def multiple_inputs_mul_backward(x: ndarray, y: ndarray, sig: array_func):\n",
    "    # forward pass\n",
    "    a = x * y\n",
    "    out = sig(a)\n",
    "    \n",
    "    # backward pass, \n",
    "    # derivative of sig wrt input a\n",
    "    dsda = deriv(sig, a)\n",
    "    # derivative of a wrt x and y\n",
    "    dadx, dady = y, x\n",
    "    dx, dy = dsda * dadx, dsda * dady\n",
    "    return (out,  (dx, dy))\n",
    "\n",
    "forward, backward = multiple_inputs_mul_backward(x=np.array([2,1,4]), y=np.array([4,1,4]), sig=sigmoid)\n",
    "print('forward: ', forward)\n",
    "print('backward: ', backward)"
   ]
  }
 ],
 "metadata": {
  "kernelspec": {
   "display_name": ".dlfsvenv",
   "language": "python",
   "name": "python3"
  },
  "language_info": {
   "codemirror_mode": {
    "name": "ipython",
    "version": 3
   },
   "file_extension": ".py",
   "mimetype": "text/x-python",
   "name": "python",
   "nbconvert_exporter": "python",
   "pygments_lexer": "ipython3",
   "version": "3.13.1"
  }
 },
 "nbformat": 4,
 "nbformat_minor": 5
}
