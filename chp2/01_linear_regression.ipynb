{
 "cells": [
  {
   "cell_type": "code",
   "execution_count": 26,
   "id": "e2c4b5eb",
   "metadata": {},
   "outputs": [],
   "source": [
    "import numpy as np\n",
    "from numpy import ndarray\n",
    "from typing import Dict, Tuple"
   ]
  },
  {
   "cell_type": "code",
   "execution_count": 27,
   "id": "70e30005",
   "metadata": {},
   "outputs": [],
   "source": [
    "def linear_regression_forward(X_batch: ndarray,\n",
    "                              y_batch: ndarray,\n",
    "                              weights: Dict[str, ndarray]) -> Tuple[float, Dict[str, ndarray]]:\n",
    "    # input dimensions\n",
    "    assert X_batch.shape[0] == y_batch.shape[0]\n",
    "    assert X_batch.shape[1] == weights['W'].shape[0]\n",
    "    assert weights['B'].shape[0] == weights['B'].shape[1]\n",
    "    \n",
    "    # forward pass\n",
    "    N = np.dot(X_batch, weights['W'])\n",
    "    P = N + weights['B']\n",
    "    \n",
    "    # calculate loss\n",
    "    # method 1\n",
    "    loss = np.mean(np.power(y_batch - P, 2))\n",
    "    # method 2\n",
    "    # loss = np.sum(np.power(y_batch - P, 2))/(2*len(X_batch))\n",
    "    \n",
    "    # save forward pass info\n",
    "    forward_info: Dict[str, ndarray] = {}\n",
    "    forward_info['X'] = X_batch\n",
    "    forward_info['P'] = P\n",
    "    forward_info['N'] = N \n",
    "    forward_info['y'] = y_batch\n",
    "    \n",
    "    return  forward_info, loss"
   ]
  },
  {
   "cell_type": "code",
   "execution_count": 28,
   "id": "4e9e9826",
   "metadata": {},
   "outputs": [
    {
     "name": "stdout",
     "output_type": "stream",
     "text": [
      "Loss:  0.03333333333333335\n",
      "Forward Pass: \n"
     ]
    },
    {
     "data": {
      "text/plain": [
       "{'X': array([[0, 2],\n",
       "        [2, 5],\n",
       "        [3, 4]]),\n",
       " 'P': array([[0.3],\n",
       "        [1. ],\n",
       "        [1.1]]),\n",
       " 'N': array([[0.2],\n",
       "        [0.9],\n",
       "        [1. ]]),\n",
       " 'y': array([[0],\n",
       "        [1],\n",
       "        [1]])}"
      ]
     },
     "metadata": {},
     "output_type": "display_data"
    }
   ],
   "source": [
    "X = np.array([\n",
    "    [0,2],\n",
    "    [2,5],\n",
    "    [3,4]\n",
    "     ])\n",
    "\n",
    "y = np.array([\n",
    "    [0],\n",
    "    [1],\n",
    "    [1]\n",
    "     ])\n",
    "\n",
    "w = {\n",
    "    'W': np.array([\n",
    "        [0.2],\n",
    "        [0.1]\n",
    "        ]),\n",
    "    'B': np.array([[0.1]])\n",
    "}\n",
    "\n",
    "forward_info, loss = linear_regression_forward(X, y, w)\n",
    "print('Loss: ', loss)\n",
    "print('Forward Pass: ');display(forward_info)"
   ]
  },
  {
   "cell_type": "code",
   "execution_count": 29,
   "id": "d98d40cf",
   "metadata": {},
   "outputs": [
    {
     "data": {
      "text/plain": [
       "{'W': array([[0.2       ],\n",
       "        [0.66666667]]),\n",
       " 'B': array([[0.26666667]])}"
      ]
     },
     "metadata": {},
     "output_type": "display_data"
    }
   ],
   "source": [
    "def loss_gradients(forward_info: Dict[str, ndarray], weights: Dict[str, ndarray]) -> Dict[str, ndarray]:\n",
    "    batch_size = forward_info['X'].shape[0] # number of samples\n",
    "    \n",
    "    # find grads: dLdB, dLdW\n",
    "    \n",
    "    # grad of loss wrt p -> using squared error: (y-P) ^ 2\n",
    "    dLdP = -2 * (forward_info['y'] - forward_info['P'])/ batch_size # dividing by batch_size to avoid exploding grads\n",
    "    # for mean squared error, grad of loss wrt p -> using mean squared error: 1/2(y-P) ^ 2\n",
    "    # dLdP = forward_info['P'] - forward_info['y'] / batch_size\n",
    "    \n",
    "    # intermediate derivatives\n",
    "    dPdN = np.ones_like(forward_info['N'])\n",
    "    dPdB = np.ones_like(weights['B'])\n",
    "    dLdN = dLdP * dPdN \n",
    "    dNdW = np.transpose(forward_info['X'], (1, 0))\n",
    "    \n",
    "    # final derivatives of w, b\n",
    "    dLdW = np.dot(dNdW, dLdN)\n",
    "    dLdB = (dLdP * dPdB).sum(axis=0, keepdims=True)\n",
    "    \n",
    "    # save the loss\n",
    "    loss_gradients: Dict[str, ndarray] = {}\n",
    "    loss_gradients['W'] = dLdW\n",
    "    loss_gradients['B'] = dLdB\n",
    "    \n",
    "    return loss_gradients\n",
    "\n",
    "loss_grad = loss_gradients(forward_info, w)\n",
    "display(loss_grad)"
   ]
  },
  {
   "cell_type": "code",
   "execution_count": 30,
   "id": "29b17b92",
   "metadata": {},
   "outputs": [
    {
     "name": "stdout",
     "output_type": "stream",
     "text": [
      "shuffled data with permutation 1:  [4 0 2 1 3]\n",
      "shuffled data with permutation 2:  [2 1 0 4 3]\n",
      "shuffled data with permutation 3:  [2 0 4 1 3]\n",
      "shuffled data with permutation 4:  [1 4 2 3 0]\n",
      "shuffled data with permutation 5:  [0 4 2 1 3]\n",
      "shuffled data with permutation 6:  [2 3 0 1 4]\n",
      "shuffled data with permutation 7:  [1 2 4 3 0]\n",
      "shuffled data with permutation 8:  [3 2 0 4 1]\n",
      "shuffled data with permutation 9:  [0 2 4 3 1]\n",
      "shuffled data with permutation 10:  [1 2 4 3 0]\n",
      "shuffled data with shuffle 1:  [1 9 3 4]\n",
      "shuffled data with shuffle 2:  [9 1 3 4]\n",
      "shuffled data with shuffle 3:  [4 3 9 1]\n",
      "shuffled data with shuffle 4:  [4 1 3 9]\n",
      "shuffled data with shuffle 5:  [9 1 4 3]\n",
      "shuffled data with shuffle 6:  [4 1 3 9]\n",
      "shuffled data with shuffle 7:  [1 3 4 9]\n",
      "shuffled data with shuffle 8:  [9 4 3 1]\n",
      "shuffled data with shuffle 9:  [3 1 9 4]\n",
      "shuffled data with shuffle 10:  [3 9 1 4]\n"
     ]
    }
   ],
   "source": [
    "# shuffling data with np.random.permutation(), makes a copy\n",
    "n_samples = 5\n",
    "# generate 10 different shuffled samples\n",
    "for i in range(10):\n",
    "    indices = np.random.permutation(n_samples)\n",
    "    print(f'shuffled data with permutation {i+1}: ', indices)\n",
    "    \n",
    "# shuffling data with np.shuffle(), changes the original array\n",
    "samples = np.array([4,1,9,3])\n",
    "# generate 10 different shuffled samples\n",
    "for i in range(10):\n",
    "    np.random.shuffle(samples)\n",
    "    print(f'shuffled data with shuffle {i+1}: ', samples)"
   ]
  },
  {
   "cell_type": "code",
   "execution_count": 31,
   "id": "00bce570",
   "metadata": {},
   "outputs": [],
   "source": [
    "# train model\n",
    "def train(X_train: ndarray, y_train: ndarray, learning_rate: float, batch_size: int=23, epochs: int=100, return_weights: bool=False, seed: int = None)-> Dict:\n",
    "    \n",
    "    # set random seed\n",
    "    if seed is not None:\n",
    "        np.random.seed(seed)\n",
    "        \n",
    "    # initialize features\n",
    "    n_features = X_train.shape[1]\n",
    "    weights = {\n",
    "        # w -> small random numbers\n",
    "        'W': np.random.randn(n_features, 1) * 0.1 , # reproducible numbers\n",
    "        # b -> all zeros \n",
    "        'B': np.zeros((1,1))\n",
    "    }\n",
    "    \n",
    "    # track progress \n",
    "    losses = []\n",
    "    n_samples = X_train.shape[0]\n",
    "    \n",
    "    for epoch in range(epochs):\n",
    "        epoch_losses = []\n",
    "        # shuffling the data for each loop \n",
    "        shuffled_indices = np.random.permutation(n_samples)\n",
    "        # shuffles both samples and the targets with same indices\n",
    "        X_shuffled = X_train[shuffled_indices]\n",
    "        y_shuffled = y_train[shuffled_indices]\n",
    "        \n",
    "        # processing the mini batches\n",
    "        # starts at 0, ends at n_samples, step by batch_size\n",
    "        for i in range(0, n_samples, batch_size):\n",
    "            # taking min to prevent end index going beyond the samples end\n",
    "            end_index = min(i + batch_size, n_samples)\n",
    "            # range a mini batch from i to end_index\n",
    "            X_batch = X_shuffled[i: end_index]\n",
    "            y_batch = y_shuffled[i: end_index]\n",
    "            \n",
    "            # forward pass , making predictions, given mini batches and weights\n",
    "            forward_info, loss = linear_regression_forward(X_batch, y_batch, weights)\n",
    "            \n",
    "            # save the losses of current epoch\n",
    "            epoch_losses.append(loss)\n",
    "            \n",
    "            # backward pass , compute grads from the calculated loss, returns a dictionary of losses\n",
    "            loss_grads = loss_gradients(forward_info, weights)\n",
    "            \n",
    "            # update weights, w and b\n",
    "            for key in weights.keys():\n",
    "                # key is same for w,b and loss_grads in both dictionaries -> weights and loss_grads\n",
    "                weights[key] -= learning_rate * loss_grads[key]\n",
    "            \n",
    "        # calculate average loss of current epoch\n",
    "        average_epoch_loss = np.mean(epoch_losses)\n",
    "        # append current epoch loss average to losses list\n",
    "        losses.append(average_epoch_loss)\n",
    "        \n",
    "        # print progress\n",
    "        print(f'epoch: {epoch+1} - epoch average loss: {average_epoch_loss:.5f}')\n",
    "\n",
    "    # save model training info \n",
    "    train_info = {\n",
    "        'losses': losses,\n",
    "        'initial_loss': losses[0],\n",
    "        'final_loss': losses[-1],\n",
    "        'total epochs': epochs,\n",
    "        'learning rate': learning_rate,\n",
    "        'batch_size': batch_size\n",
    "    }\n",
    "\n",
    "    if return_weights:\n",
    "        train_info['weights'] = weights\n",
    "    \n",
    "    return train_info"
   ]
  },
  {
   "cell_type": "code",
   "execution_count": 36,
   "id": "42739199",
   "metadata": {},
   "outputs": [
    {
     "name": "stdout",
     "output_type": "stream",
     "text": [
      "epoch: 1 - epoch average loss: 0.43323\n",
      "epoch: 2 - epoch average loss: 0.23005\n",
      "epoch: 3 - epoch average loss: 0.12418\n",
      "epoch: 4 - epoch average loss: 0.06901\n",
      "epoch: 5 - epoch average loss: 0.04023\n",
      "epoch: 6 - epoch average loss: 0.02521\n",
      "epoch: 7 - epoch average loss: 0.01735\n",
      "epoch: 8 - epoch average loss: 0.01322\n",
      "epoch: 9 - epoch average loss: 0.01105\n",
      "epoch: 10 - epoch average loss: 0.00988\n",
      "epoch: 11 - epoch average loss: 0.00925\n",
      "epoch: 12 - epoch average loss: 0.00890\n",
      "epoch: 13 - epoch average loss: 0.00869\n",
      "epoch: 14 - epoch average loss: 0.00855\n",
      "epoch: 15 - epoch average loss: 0.00846\n",
      "epoch: 16 - epoch average loss: 0.00840\n",
      "epoch: 17 - epoch average loss: 0.00834\n",
      "epoch: 18 - epoch average loss: 0.00829\n",
      "epoch: 19 - epoch average loss: 0.00825\n",
      "epoch: 20 - epoch average loss: 0.00821\n",
      "epoch: 21 - epoch average loss: 0.00817\n",
      "epoch: 22 - epoch average loss: 0.00813\n",
      "epoch: 23 - epoch average loss: 0.00810\n",
      "epoch: 24 - epoch average loss: 0.00806\n",
      "epoch: 25 - epoch average loss: 0.00803\n",
      "epoch: 26 - epoch average loss: 0.00800\n",
      "epoch: 27 - epoch average loss: 0.00797\n",
      "epoch: 28 - epoch average loss: 0.00794\n",
      "epoch: 29 - epoch average loss: 0.00791\n",
      "epoch: 30 - epoch average loss: 0.00789\n",
      "epoch: 31 - epoch average loss: 0.00786\n",
      "epoch: 32 - epoch average loss: 0.00783\n",
      "epoch: 33 - epoch average loss: 0.00781\n",
      "epoch: 34 - epoch average loss: 0.00778\n",
      "epoch: 35 - epoch average loss: 0.00776\n",
      "epoch: 36 - epoch average loss: 0.00773\n",
      "epoch: 37 - epoch average loss: 0.00771\n",
      "epoch: 38 - epoch average loss: 0.00769\n",
      "epoch: 39 - epoch average loss: 0.00767\n",
      "epoch: 40 - epoch average loss: 0.00765\n",
      "epoch: 41 - epoch average loss: 0.00762\n",
      "epoch: 42 - epoch average loss: 0.00760\n",
      "epoch: 43 - epoch average loss: 0.00758\n",
      "epoch: 44 - epoch average loss: 0.00756\n",
      "epoch: 45 - epoch average loss: 0.00754\n",
      "epoch: 46 - epoch average loss: 0.00752\n",
      "epoch: 47 - epoch average loss: 0.00751\n",
      "epoch: 48 - epoch average loss: 0.00749\n",
      "epoch: 49 - epoch average loss: 0.00747\n",
      "epoch: 50 - epoch average loss: 0.00745\n",
      "epoch: 51 - epoch average loss: 0.00743\n",
      "epoch: 52 - epoch average loss: 0.00741\n",
      "epoch: 53 - epoch average loss: 0.00740\n",
      "epoch: 54 - epoch average loss: 0.00738\n",
      "epoch: 55 - epoch average loss: 0.00736\n",
      "epoch: 56 - epoch average loss: 0.00734\n",
      "epoch: 57 - epoch average loss: 0.00733\n",
      "epoch: 58 - epoch average loss: 0.00731\n",
      "epoch: 59 - epoch average loss: 0.00729\n",
      "epoch: 60 - epoch average loss: 0.00728\n",
      "epoch: 61 - epoch average loss: 0.00726\n",
      "epoch: 62 - epoch average loss: 0.00724\n",
      "epoch: 63 - epoch average loss: 0.00723\n",
      "epoch: 64 - epoch average loss: 0.00721\n",
      "epoch: 65 - epoch average loss: 0.00720\n",
      "epoch: 66 - epoch average loss: 0.00718\n",
      "epoch: 67 - epoch average loss: 0.00716\n",
      "epoch: 68 - epoch average loss: 0.00715\n",
      "epoch: 69 - epoch average loss: 0.00713\n",
      "epoch: 70 - epoch average loss: 0.00712\n",
      "epoch: 71 - epoch average loss: 0.00710\n",
      "epoch: 72 - epoch average loss: 0.00709\n",
      "epoch: 73 - epoch average loss: 0.00707\n",
      "epoch: 74 - epoch average loss: 0.00706\n",
      "epoch: 75 - epoch average loss: 0.00704\n",
      "epoch: 76 - epoch average loss: 0.00703\n",
      "epoch: 77 - epoch average loss: 0.00701\n",
      "epoch: 78 - epoch average loss: 0.00700\n",
      "epoch: 79 - epoch average loss: 0.00699\n",
      "epoch: 80 - epoch average loss: 0.00697\n",
      "epoch: 81 - epoch average loss: 0.00696\n",
      "epoch: 82 - epoch average loss: 0.00694\n",
      "epoch: 83 - epoch average loss: 0.00693\n",
      "epoch: 84 - epoch average loss: 0.00691\n",
      "epoch: 85 - epoch average loss: 0.00690\n",
      "epoch: 86 - epoch average loss: 0.00689\n",
      "epoch: 87 - epoch average loss: 0.00687\n",
      "epoch: 88 - epoch average loss: 0.00686\n",
      "epoch: 89 - epoch average loss: 0.00685\n",
      "epoch: 90 - epoch average loss: 0.00683\n",
      "epoch: 91 - epoch average loss: 0.00682\n",
      "epoch: 92 - epoch average loss: 0.00681\n",
      "epoch: 93 - epoch average loss: 0.00679\n",
      "epoch: 94 - epoch average loss: 0.00678\n",
      "epoch: 95 - epoch average loss: 0.00677\n",
      "epoch: 96 - epoch average loss: 0.00675\n",
      "epoch: 97 - epoch average loss: 0.00674\n",
      "epoch: 98 - epoch average loss: 0.00673\n",
      "epoch: 99 - epoch average loss: 0.00671\n",
      "epoch: 100 - epoch average loss: 0.00670\n",
      "\n",
      "Training completed!\n",
      "Initial loss: 0.4332, Final loss: 0.0067\n",
      "Final weights:\n",
      "W: [[0.1762346869280848], [0.11504263171769785]]\n",
      "B: [[0.004138106139811705]]\n"
     ]
    }
   ],
   "source": [
    "X_train = np.array([\n",
    "        [0, 2], [2, 5], [3, 4], [1, 3], [4, 1],\n",
    "        [2, 2], [3, 3], [1, 4], [4, 2], [0, 1]\n",
    "    ])\n",
    "    \n",
    "y_train = np.array([\n",
    "        [0], [1], [1], [0.5], [0.8],\n",
    "        [0.6], [0.9], [0.7], [0.9], [0.1]\n",
    "    ])\n",
    "    \n",
    "train_info = train(X_train, y_train, learning_rate=0.01, batch_size=len(X_train), epochs=100, return_weights=True, seed=42)\n",
    "    \n",
    "print(\"\\nTraining completed!\")\n",
    "print(f\"Initial loss: {train_info['initial_loss']:.4f}, Final loss: {train_info['final_loss']:.4f}\")\n",
    "    \n",
    "if 'weights' in train_info:\n",
    "    print(\"Final weights:\")\n",
    "    for key, value in train_info['weights'].items():\n",
    "        print(f\"{key}: {value.tolist()}\")"
   ]
  },
  {
   "cell_type": "code",
   "execution_count": 37,
   "id": "cf06c8f8",
   "metadata": {},
   "outputs": [
    {
     "name": "stdout",
     "output_type": "stream",
     "text": [
      "actual vs predicted\n",
      "[array([0.]), array([0.23422337])]\n",
      "[array([1.]), array([0.93182064])]\n",
      "[array([1.]), array([0.99301269])]\n",
      "[array([0.5]), array([0.52550069])]\n",
      "[array([0.8]), array([0.82411949])]\n",
      "[array([0.6]), array([0.58669274])]\n",
      "[array([0.9]), array([0.87797006])]\n",
      "[array([0.7]), array([0.64054332])]\n",
      "[array([0.9]), array([0.93916212])]\n",
      "[array([0.1]), array([0.11918074])]\n"
     ]
    }
   ],
   "source": [
    "# predictions with final weights\n",
    "weights = train_info['weights']\n",
    "W, B = weights['W'], weights['B']\n",
    "y_pred = X_train @ W + B\n",
    "print('actual vs predicted')\n",
    "for pred in zip(y_train, y_pred):\n",
    "    print(list(pred))"
   ]
  },
  {
   "cell_type": "code",
   "execution_count": 38,
   "id": "891dd287",
   "metadata": {},
   "outputs": [
    {
     "data": {
      "text/plain": [
       "[<matplotlib.lines.Line2D at 0x26b1db92710>]"
      ]
     },
     "execution_count": 38,
     "metadata": {},
     "output_type": "execute_result"
    },
    {
     "data": {
      "image/png": "[encoded data removed]",
      "text/plain": [
       "<Figure size 1000x300 with 1 Axes>"
      ]
     },
     "metadata": {},
     "output_type": "display_data"
    }
   ],
   "source": [
    "# ploting the results, loss curve\n",
    "import matplotlib.pyplot as plt\n",
    "\n",
    "plt.figure(figsize=(10,3))\n",
    "plt.plot(train_info['losses'], marker='o', color='blue')"
   ]
  },
  {
   "cell_type": "code",
   "execution_count": 39,
   "id": "c31b5305",
   "metadata": {},
   "outputs": [
    {
     "data": {
      "image/png": "[encoded data removed]",
      "text/plain": [
       "<Figure size 600x600 with 1 Axes>"
      ]
     },
     "metadata": {},
     "output_type": "display_data"
    }
   ],
   "source": [
    "plt.figure(figsize=(6, 6))\n",
    "plt.scatter(y_train, y_pred, color='blue', edgecolor='k', s=60, alpha=0.8)\n",
    "plt.plot([y_train.min(), y_train.max()], [y_train.min(), y_train.max()], 'r--', lw=2, label='Perfect Fit')\n",
    "plt.xlabel('Actual')\n",
    "plt.ylabel('Predicted')\n",
    "plt.title('Actual vs Predicted Labels')\n",
    "plt.legend()\n",
    "plt.grid(True, alpha=0.3)\n",
    "plt.axis('equal')\n",
    "plt.show()"
   ]
  }
 ],
 "metadata": {
  "kernelspec": {
   "display_name": ".dlfsvenv",
   "language": "python",
   "name": "python3"
  },
  "language_info": {
   "codemirror_mode": {
    "name": "ipython",
    "version": 3
   },
   "file_extension": ".py",
   "mimetype": "text/x-python",
   "name": "python",
   "nbconvert_exporter": "python",
   "pygments_lexer": "ipython3",
   "version": "3.13.1"
  }
 },
 "nbformat": 4,
 "nbformat_minor": 5
}
