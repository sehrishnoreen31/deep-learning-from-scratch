{
 "cells": [
  {
   "cell_type": "code",
   "execution_count": 123,
   "id": "e2c4b5eb",
   "metadata": {},
   "outputs": [],
   "source": [
    "import numpy as np\n",
    "from numpy import ndarray\n",
    "from typing import Dict, Tuple"
   ]
  },
  {
   "cell_type": "markdown",
   "id": "efca4d8c",
   "metadata": {},
   "source": [
    "## Linear Regression Forward Pass"
   ]
  },
  {
   "cell_type": "code",
   "execution_count": 124,
   "id": "70e30005",
   "metadata": {},
   "outputs": [],
   "source": [
    "def linear_regression_forward(X_batch: ndarray,\n",
    "                              y_batch: ndarray,\n",
    "                              weights: Dict[str, ndarray]) -> Tuple[float, Dict[str, ndarray]]:\n",
    "    # input dimensions\n",
    "    assert X_batch.shape[0] == y_batch.shape[0]\n",
    "    assert X_batch.shape[1] == weights['W'].shape[0]\n",
    "    assert weights['B'].shape[0] == weights['B'].shape[1]\n",
    "    \n",
    "    # forward pass\n",
    "    N = np.dot(X_batch, weights['W'])\n",
    "    P = N + weights['B']\n",
    "    \n",
    "    # calculate loss\n",
    "    # method 1\n",
    "    loss = np.mean(np.power(y_batch - P, 2))\n",
    "    # method 2\n",
    "    # loss = np.sum(np.power(y_batch - P, 2))/(2*len(X_batch))\n",
    "    \n",
    "    # save forward pass info\n",
    "    forward_info: Dict[str, ndarray] = {}\n",
    "    forward_info['X'] = X_batch\n",
    "    forward_info['P'] = P\n",
    "    forward_info['N'] = N \n",
    "    forward_info['y'] = y_batch\n",
    "    \n",
    "    return  forward_info, loss"
   ]
  },
  {
   "cell_type": "code",
   "execution_count": 125,
   "id": "4e9e9826",
   "metadata": {},
   "outputs": [
    {
     "name": "stdout",
     "output_type": "stream",
     "text": [
      "Loss:  0.03333333333333335\n",
      "Forward Pass: \n"
     ]
    },
    {
     "data": {
      "text/plain": [
       "{'X': array([[0, 2],\n",
       "        [2, 5],\n",
       "        [3, 4]]),\n",
       " 'P': array([[0.3],\n",
       "        [1. ],\n",
       "        [1.1]]),\n",
       " 'N': array([[0.2],\n",
       "        [0.9],\n",
       "        [1. ]]),\n",
       " 'y': array([[0],\n",
       "        [1],\n",
       "        [1]])}"
      ]
     },
     "metadata": {},
     "output_type": "display_data"
    }
   ],
   "source": [
    "X = np.array([\n",
    "    [0,2],\n",
    "    [2,5],\n",
    "    [3,4]\n",
    "     ])\n",
    "\n",
    "y = np.array([\n",
    "    [0],\n",
    "    [1],\n",
    "    [1]\n",
    "     ])\n",
    "\n",
    "w = {\n",
    "    'W': np.array([\n",
    "        [0.2],\n",
    "        [0.1]\n",
    "        ]),\n",
    "    'B': np.array([[0.1]])\n",
    "}\n",
    "\n",
    "forward_info, loss = linear_regression_forward(X, y, w)\n",
    "print('Loss: ', loss)\n",
    "print('Forward Pass: ');display(forward_info)"
   ]
  },
  {
   "cell_type": "markdown",
   "id": "b2ac9e80",
   "metadata": {},
   "source": [
    "## Backward Pass"
   ]
  },
  {
   "cell_type": "code",
   "execution_count": 126,
   "id": "d98d40cf",
   "metadata": {},
   "outputs": [
    {
     "data": {
      "text/plain": [
       "{'W': array([[0.2       ],\n",
       "        [0.66666667]]),\n",
       " 'B': array([[0.26666667]])}"
      ]
     },
     "metadata": {},
     "output_type": "display_data"
    }
   ],
   "source": [
    "def loss_gradients(forward_info: Dict[str, ndarray], weights: Dict[str, ndarray]) -> Dict[str, ndarray]:\n",
    "    batch_size = forward_info['X'].shape[0] # number of samples\n",
    "    \n",
    "    # find grads: dLdB, dLdW\n",
    "    \n",
    "    # grad of loss wrt p -> using squared error: (y-P) ^ 2\n",
    "    dLdP = -2 * (forward_info['y'] - forward_info['P'])/ batch_size # dividing by batch_size to avoid exploding grads\n",
    "    # for mean squared error, grad of loss wrt p -> using mean squared error: 1/2(y-P) ^ 2\n",
    "    # dLdP = forward_info['P'] - forward_info['y'] / batch_size\n",
    "    \n",
    "    # intermediate derivatives\n",
    "    dPdN = np.ones_like(forward_info['N'])\n",
    "    dPdB = np.ones_like(weights['B'])\n",
    "    dLdN = dLdP * dPdN \n",
    "    dNdW = np.transpose(forward_info['X'], (1, 0))\n",
    "    \n",
    "    # final derivatives of w, b\n",
    "    dLdW = np.dot(dNdW, dLdN)\n",
    "    dLdB = (dLdP * dPdB).sum(axis=0, keepdims=True)\n",
    "    \n",
    "    # save the loss\n",
    "    loss_gradients: Dict[str, ndarray] = {}\n",
    "    loss_gradients['W'] = dLdW\n",
    "    loss_gradients['B'] = dLdB\n",
    "    \n",
    "    return loss_gradients\n",
    "\n",
    "loss_grad = loss_gradients(forward_info, w)\n",
    "display(loss_grad)"
   ]
  },
  {
   "cell_type": "code",
   "execution_count": 127,
   "id": "29b17b92",
   "metadata": {},
   "outputs": [
    {
     "name": "stdout",
     "output_type": "stream",
     "text": [
      "shuffled data with permutation 1:  [2 3 1 0 4]\n",
      "shuffled data with permutation 2:  [1 3 4 2 0]\n",
      "shuffled data with permutation 3:  [1 2 4 0 3]\n",
      "shuffled data with permutation 4:  [1 4 3 2 0]\n",
      "shuffled data with permutation 5:  [4 3 1 0 2]\n",
      "shuffled data with permutation 6:  [0 2 1 3 4]\n",
      "shuffled data with permutation 7:  [1 0 2 4 3]\n",
      "shuffled data with permutation 8:  [3 4 0 2 1]\n",
      "shuffled data with permutation 9:  [2 0 1 3 4]\n",
      "shuffled data with permutation 10:  [1 3 0 4 2]\n",
      "shuffled data with shuffle 1:  [4 1 3 9]\n",
      "shuffled data with shuffle 2:  [1 9 3 4]\n",
      "shuffled data with shuffle 3:  [4 1 9 3]\n",
      "shuffled data with shuffle 4:  [3 1 9 4]\n",
      "shuffled data with shuffle 5:  [4 9 3 1]\n",
      "shuffled data with shuffle 6:  [1 9 4 3]\n",
      "shuffled data with shuffle 7:  [9 1 3 4]\n",
      "shuffled data with shuffle 8:  [4 3 1 9]\n",
      "shuffled data with shuffle 9:  [3 1 4 9]\n",
      "shuffled data with shuffle 10:  [1 3 4 9]\n"
     ]
    }
   ],
   "source": [
    "# shuffling data with np.random.permutation(), makes a copy\n",
    "n_samples = 5\n",
    "# generate 10 different shuffled samples\n",
    "for i in range(10):\n",
    "    indices = np.random.permutation(n_samples)\n",
    "    print(f'shuffled data with permutation {i+1}: ', indices)\n",
    "    \n",
    "# shuffling data with np.shuffle(), changes the original array\n",
    "samples = np.array([4,1,9,3])\n",
    "# generate 10 different shuffled samples\n",
    "for i in range(10):\n",
    "    np.random.shuffle(samples)\n",
    "    print(f'shuffled data with shuffle {i+1}: ', samples)"
   ]
  },
  {
   "cell_type": "markdown",
   "id": "8da392b8",
   "metadata": {},
   "source": [
    "## Train Model"
   ]
  },
  {
   "cell_type": "code",
   "execution_count": 128,
   "id": "00bce570",
   "metadata": {},
   "outputs": [],
   "source": [
    "# train model\n",
    "def train(X_train: ndarray, y_train: ndarray, learning_rate: float, batch_size: int=23, epochs: int=100, return_weights: bool=False, seed: int = None)-> Dict:\n",
    "    \n",
    "    # set random seed\n",
    "    if seed is not None:\n",
    "        np.random.seed(seed)\n",
    "        \n",
    "    # initialize features\n",
    "    n_features = X_train.shape[1]\n",
    "    weights = {\n",
    "        # w -> small random numbers\n",
    "        'W': np.random.randn(n_features, 1) * 0.1 , # reproducible numbers\n",
    "        # b -> all zeros \n",
    "        'B': np.zeros((1,1))\n",
    "    }\n",
    "    \n",
    "    # track progress \n",
    "    losses = []\n",
    "    n_samples = X_train.shape[0]\n",
    "    \n",
    "    for epoch in range(epochs):\n",
    "        epoch_losses = []\n",
    "        # shuffling the data for each loop \n",
    "        shuffled_indices = np.random.permutation(n_samples)\n",
    "        # shuffles both samples and the targets with same indices\n",
    "        X_shuffled = X_train[shuffled_indices]\n",
    "        y_shuffled = y_train[shuffled_indices]\n",
    "        \n",
    "        # processing the mini batches\n",
    "        # starts at 0, ends at n_samples, step by batch_size\n",
    "        for i in range(0, n_samples, batch_size):\n",
    "            # taking min to prevent end index going beyond the samples end\n",
    "            end_index = min(i + batch_size, n_samples)\n",
    "            # range a mini batch from i to end_index\n",
    "            X_batch = X_shuffled[i: end_index]\n",
    "            y_batch = y_shuffled[i: end_index]\n",
    "            \n",
    "            # forward pass , making predictions, given mini batches and weights\n",
    "            forward_info, loss = linear_regression_forward(X_batch, y_batch, weights)\n",
    "            \n",
    "            # save the losses of current epoch\n",
    "            epoch_losses.append(loss)\n",
    "            \n",
    "            # backward pass , compute grads from the calculated loss, returns a dictionary of losses\n",
    "            loss_grads = loss_gradients(forward_info, weights)\n",
    "            \n",
    "            # update weights, w and b\n",
    "            for key in weights.keys():\n",
    "                # key is same for w,b and loss_grads in both dictionaries -> weights and loss_grads\n",
    "                weights[key] -= learning_rate * loss_grads[key]\n",
    "            \n",
    "        # calculate average loss of current epoch\n",
    "        average_epoch_loss = np.mean(epoch_losses)\n",
    "        # append current epoch loss average to losses list\n",
    "        losses.append(average_epoch_loss)\n",
    "        \n",
    "        # print progress\n",
    "        print(f'epoch: {epoch+1} - epoch average loss: {average_epoch_loss:.5f}')\n",
    "\n",
    "    # save model training info \n",
    "    train_info = {\n",
    "        'losses': losses,\n",
    "        'initial_loss': losses[0],\n",
    "        'final_loss': losses[-1],\n",
    "        'total epochs': epochs,\n",
    "        'learning rate': learning_rate,\n",
    "        'batch_size': batch_size\n",
    "    }\n",
    "\n",
    "    if return_weights:\n",
    "        train_info['weights'] = weights\n",
    "    \n",
    "    return train_info"
   ]
  },
  {
   "cell_type": "code",
   "execution_count": 129,
   "id": "42739199",
   "metadata": {},
   "outputs": [
    {
     "name": "stdout",
     "output_type": "stream",
     "text": [
      "epoch: 1 - epoch average loss: 0.09062\n",
      "epoch: 2 - epoch average loss: 0.08601\n",
      "epoch: 3 - epoch average loss: 0.08172\n",
      "epoch: 4 - epoch average loss: 0.07771\n",
      "epoch: 5 - epoch average loss: 0.07398\n",
      "epoch: 6 - epoch average loss: 0.07050\n",
      "epoch: 7 - epoch average loss: 0.06726\n",
      "epoch: 8 - epoch average loss: 0.06424\n",
      "epoch: 9 - epoch average loss: 0.06142\n",
      "epoch: 10 - epoch average loss: 0.05879\n",
      "epoch: 11 - epoch average loss: 0.05634\n",
      "epoch: 12 - epoch average loss: 0.05405\n",
      "epoch: 13 - epoch average loss: 0.05191\n",
      "epoch: 14 - epoch average loss: 0.04991\n",
      "epoch: 15 - epoch average loss: 0.04805\n",
      "epoch: 16 - epoch average loss: 0.04631\n",
      "epoch: 17 - epoch average loss: 0.04468\n",
      "epoch: 18 - epoch average loss: 0.04316\n",
      "epoch: 19 - epoch average loss: 0.04174\n",
      "epoch: 20 - epoch average loss: 0.04042\n",
      "epoch: 21 - epoch average loss: 0.03917\n",
      "epoch: 22 - epoch average loss: 0.03801\n",
      "epoch: 23 - epoch average loss: 0.03692\n",
      "epoch: 24 - epoch average loss: 0.03590\n",
      "epoch: 25 - epoch average loss: 0.03495\n",
      "epoch: 26 - epoch average loss: 0.03405\n",
      "epoch: 27 - epoch average loss: 0.03321\n",
      "epoch: 28 - epoch average loss: 0.03242\n",
      "epoch: 29 - epoch average loss: 0.03168\n",
      "epoch: 30 - epoch average loss: 0.03099\n",
      "epoch: 31 - epoch average loss: 0.03033\n",
      "epoch: 32 - epoch average loss: 0.02972\n",
      "epoch: 33 - epoch average loss: 0.02914\n",
      "epoch: 34 - epoch average loss: 0.02860\n",
      "epoch: 35 - epoch average loss: 0.02809\n",
      "epoch: 36 - epoch average loss: 0.02761\n",
      "epoch: 37 - epoch average loss: 0.02715\n",
      "epoch: 38 - epoch average loss: 0.02672\n",
      "epoch: 39 - epoch average loss: 0.02632\n",
      "epoch: 40 - epoch average loss: 0.02593\n",
      "epoch: 41 - epoch average loss: 0.02557\n",
      "epoch: 42 - epoch average loss: 0.02522\n",
      "epoch: 43 - epoch average loss: 0.02490\n",
      "epoch: 44 - epoch average loss: 0.02459\n",
      "epoch: 45 - epoch average loss: 0.02430\n",
      "epoch: 46 - epoch average loss: 0.02402\n",
      "epoch: 47 - epoch average loss: 0.02375\n",
      "epoch: 48 - epoch average loss: 0.02350\n",
      "epoch: 49 - epoch average loss: 0.02326\n",
      "epoch: 50 - epoch average loss: 0.02303\n",
      "epoch: 51 - epoch average loss: 0.02281\n",
      "epoch: 52 - epoch average loss: 0.02261\n",
      "epoch: 53 - epoch average loss: 0.02241\n",
      "epoch: 54 - epoch average loss: 0.02221\n",
      "epoch: 55 - epoch average loss: 0.02203\n",
      "epoch: 56 - epoch average loss: 0.02186\n",
      "epoch: 57 - epoch average loss: 0.02169\n",
      "epoch: 58 - epoch average loss: 0.02152\n",
      "epoch: 59 - epoch average loss: 0.02137\n",
      "epoch: 60 - epoch average loss: 0.02122\n",
      "epoch: 61 - epoch average loss: 0.02107\n",
      "epoch: 62 - epoch average loss: 0.02093\n",
      "epoch: 63 - epoch average loss: 0.02080\n",
      "epoch: 64 - epoch average loss: 0.02067\n",
      "epoch: 65 - epoch average loss: 0.02054\n",
      "epoch: 66 - epoch average loss: 0.02042\n",
      "epoch: 67 - epoch average loss: 0.02030\n",
      "epoch: 68 - epoch average loss: 0.02019\n",
      "epoch: 69 - epoch average loss: 0.02007\n",
      "epoch: 70 - epoch average loss: 0.01997\n",
      "epoch: 71 - epoch average loss: 0.01986\n",
      "epoch: 72 - epoch average loss: 0.01976\n",
      "epoch: 73 - epoch average loss: 0.01966\n",
      "epoch: 74 - epoch average loss: 0.01956\n",
      "epoch: 75 - epoch average loss: 0.01946\n",
      "epoch: 76 - epoch average loss: 0.01937\n",
      "epoch: 77 - epoch average loss: 0.01928\n",
      "epoch: 78 - epoch average loss: 0.01919\n",
      "epoch: 79 - epoch average loss: 0.01910\n",
      "epoch: 80 - epoch average loss: 0.01902\n",
      "epoch: 81 - epoch average loss: 0.01893\n",
      "epoch: 82 - epoch average loss: 0.01885\n",
      "epoch: 83 - epoch average loss: 0.01877\n",
      "epoch: 84 - epoch average loss: 0.01869\n",
      "epoch: 85 - epoch average loss: 0.01862\n",
      "epoch: 86 - epoch average loss: 0.01854\n",
      "epoch: 87 - epoch average loss: 0.01846\n",
      "epoch: 88 - epoch average loss: 0.01839\n",
      "epoch: 89 - epoch average loss: 0.01832\n",
      "epoch: 90 - epoch average loss: 0.01825\n",
      "epoch: 91 - epoch average loss: 0.01818\n",
      "epoch: 92 - epoch average loss: 0.01811\n",
      "epoch: 93 - epoch average loss: 0.01804\n",
      "epoch: 94 - epoch average loss: 0.01797\n",
      "epoch: 95 - epoch average loss: 0.01791\n",
      "epoch: 96 - epoch average loss: 0.01784\n",
      "epoch: 97 - epoch average loss: 0.01778\n",
      "epoch: 98 - epoch average loss: 0.01772\n",
      "epoch: 99 - epoch average loss: 0.01765\n",
      "epoch: 100 - epoch average loss: 0.01759\n",
      "epoch: 101 - epoch average loss: 0.01753\n",
      "epoch: 102 - epoch average loss: 0.01747\n",
      "epoch: 103 - epoch average loss: 0.01741\n",
      "epoch: 104 - epoch average loss: 0.01736\n",
      "epoch: 105 - epoch average loss: 0.01730\n",
      "epoch: 106 - epoch average loss: 0.01724\n",
      "epoch: 107 - epoch average loss: 0.01718\n",
      "epoch: 108 - epoch average loss: 0.01713\n",
      "epoch: 109 - epoch average loss: 0.01707\n",
      "epoch: 110 - epoch average loss: 0.01702\n",
      "epoch: 111 - epoch average loss: 0.01697\n",
      "epoch: 112 - epoch average loss: 0.01691\n",
      "epoch: 113 - epoch average loss: 0.01686\n",
      "epoch: 114 - epoch average loss: 0.01681\n",
      "epoch: 115 - epoch average loss: 0.01676\n",
      "epoch: 116 - epoch average loss: 0.01671\n",
      "epoch: 117 - epoch average loss: 0.01666\n",
      "epoch: 118 - epoch average loss: 0.01661\n",
      "epoch: 119 - epoch average loss: 0.01656\n",
      "epoch: 120 - epoch average loss: 0.01651\n",
      "epoch: 121 - epoch average loss: 0.01646\n",
      "epoch: 122 - epoch average loss: 0.01641\n",
      "epoch: 123 - epoch average loss: 0.01637\n",
      "epoch: 124 - epoch average loss: 0.01632\n",
      "epoch: 125 - epoch average loss: 0.01627\n",
      "epoch: 126 - epoch average loss: 0.01623\n",
      "epoch: 127 - epoch average loss: 0.01618\n",
      "epoch: 128 - epoch average loss: 0.01614\n",
      "epoch: 129 - epoch average loss: 0.01609\n",
      "epoch: 130 - epoch average loss: 0.01605\n",
      "epoch: 131 - epoch average loss: 0.01601\n",
      "epoch: 132 - epoch average loss: 0.01596\n",
      "epoch: 133 - epoch average loss: 0.01592\n",
      "epoch: 134 - epoch average loss: 0.01588\n",
      "epoch: 135 - epoch average loss: 0.01584\n",
      "epoch: 136 - epoch average loss: 0.01579\n",
      "epoch: 137 - epoch average loss: 0.01575\n",
      "epoch: 138 - epoch average loss: 0.01571\n",
      "epoch: 139 - epoch average loss: 0.01567\n",
      "epoch: 140 - epoch average loss: 0.01563\n",
      "epoch: 141 - epoch average loss: 0.01559\n",
      "epoch: 142 - epoch average loss: 0.01556\n",
      "epoch: 143 - epoch average loss: 0.01552\n",
      "epoch: 144 - epoch average loss: 0.01548\n",
      "epoch: 145 - epoch average loss: 0.01544\n",
      "epoch: 146 - epoch average loss: 0.01540\n",
      "epoch: 147 - epoch average loss: 0.01537\n",
      "epoch: 148 - epoch average loss: 0.01533\n",
      "epoch: 149 - epoch average loss: 0.01529\n",
      "epoch: 150 - epoch average loss: 0.01526\n",
      "\n",
      "Training completed!\n",
      "Initial loss: 0.0906, Final loss: 0.0153\n",
      "Final weights:\n",
      "W: [[0.09449702174179919], [0.08454754473167461]]\n",
      "B: [[0.009474707569945858]]\n"
     ]
    }
   ],
   "source": [
    "X_train = np.array([\n",
    "    [0, 2], [1, 3], [2, 4], [3, 5], [4, 0],\n",
    "    [5, 1], [2, 1], [3, 2], [4, 3], [5, 4],\n",
    "    [1, 0], [2, 2], [3, 3], [4, 4], [5, 5],\n",
    "    [0, 5], [1, 4], [2, 3], [3, 1], [4, 2]\n",
    "])\n",
    "\n",
    "y_train = np.array([\n",
    "    [0.2], [0.4], [0.6], [0.8], [0.25],\n",
    "    [0.45], [0.15], [0.35], [0.55], [0.75],\n",
    "    [0.05], [0.5], [0.7], [0.9], [1.0],\n",
    "    [0.3], [0.65], [0.48], [0.18], [0.38]\n",
    "])\n",
    "    \n",
    "train_info = train(X_train, y_train, learning_rate=0.001, batch_size=len(X_train), epochs=150, return_weights=True, seed=1230928)\n",
    "    \n",
    "print(\"\\nTraining completed!\")\n",
    "print(f\"Initial loss: {train_info['initial_loss']:.4f}, Final loss: {train_info['final_loss']:.4f}\")\n",
    "    \n",
    "if 'weights' in train_info:\n",
    "    print(\"Final weights:\")\n",
    "    for key, value in train_info['weights'].items():\n",
    "        print(f\"{key}: {value.tolist()}\")"
   ]
  },
  {
   "cell_type": "markdown",
   "id": "36c3f2ae",
   "metadata": {},
   "source": [
    "## Plot Results"
   ]
  },
  {
   "cell_type": "code",
   "execution_count": 130,
   "id": "ed8567fd",
   "metadata": {},
   "outputs": [
    {
     "data": {
      "text/plain": [
       "[<matplotlib.lines.Line2D at 0x19f3cec5d10>]"
      ]
     },
     "execution_count": 130,
     "metadata": {},
     "output_type": "execute_result"
    },
    {
     "data": {
      "image/png": "[encoded data removed]",
      "text/plain": [
       "<Figure size 1000x300 with 1 Axes>"
      ]
     },
     "metadata": {},
     "output_type": "display_data"
    }
   ],
   "source": [
    "# ploting the results, loss curve\n",
    "import matplotlib.pyplot as plt\n",
    "\n",
    "plt.figure(figsize=(10,3))\n",
    "plt.plot(train_info['losses'], marker='o', color='blue')"
   ]
  },
  {
   "cell_type": "code",
   "execution_count": 131,
   "id": "cf06c8f8",
   "metadata": {},
   "outputs": [
    {
     "name": "stdout",
     "output_type": "stream",
     "text": [
      "[[0.09402225]\n",
      " [0.27306682]\n",
      " [0.45211139]\n",
      " [0.63115595]\n",
      " [0.81020052]\n",
      " [0.48195982]\n",
      " [0.47201034]\n",
      " [0.46206086]\n",
      " [0.2830163 ]\n",
      " [0.10397173]]\n"
     ]
    }
   ],
   "source": [
    "# predictions with final weights\n",
    "# weights = train_info['weights']\n",
    "# W, B = weights['W'], weights['B']\n",
    "# y_pred = X_train @ W + B\n",
    "# print('actual vs predicted')\n",
    "# for pred in zip(y_train, y_pred):\n",
    "#     print(list(pred))\n",
    "\n",
    "def predict(X: ndarray, weights: Dict[str, ndarray]):\n",
    "    N = np.dot(X, weights['W'])\n",
    "    P = N + weights['B']\n",
    "    return P\n",
    "\n",
    "updated_weights = train_info['weights']\n",
    "X_test = np.array([\n",
    "    [0, 1], [1, 2], [2, 3], [3, 4], [4, 5],\n",
    "    [5, 0], [4, 1], [3, 2], [2, 1], [1, 0],\n",
    "    [1, 3], [2, 4], [3, 5], [5, 2], [4, 3],\n",
    "    [0, 5], [5, 4], [2, 0], [3, 1], [1, 4]\n",
    "])\n",
    "\n",
    "y_test = np.array([\n",
    "    [0.1], [0.3], [0.5], [0.7], [0.9],\n",
    "    [0.2], [0.4], [0.6], [0.25], [0.05],\n",
    "    [0.35], [0.55], [0.75], [0.65], [0.85],\n",
    "    [0.45], [1.0], [0.15], [0.28], [0.58]\n",
    "])\n",
    "preds = predict(X_test, updated_weights)\n",
    "print(preds[:10])"
   ]
  },
  {
   "cell_type": "code",
   "execution_count": 132,
   "id": "c31b5305",
   "metadata": {},
   "outputs": [
    {
     "data": {
      "image/png": "[encoded data removed]",
      "text/plain": [
       "<Figure size 400x400 with 1 Axes>"
      ]
     },
     "metadata": {},
     "output_type": "display_data"
    }
   ],
   "source": [
    "import matplotlib.pyplot as plt\n",
    "\n",
    "#  predictions vs actual values\n",
    "plt.figure(figsize=(4,4))\n",
    "plt.scatter(y_test, preds, color='blue', alpha=0.6, label=\"Predictions\")\n",
    "plt.plot([0,1], [0,1], color='red', linestyle='--', label=\"Line Fit\")\n",
    "plt.title(\"Predicted vs Actual\", fontsize=14)\n",
    "plt.xlabel(\"Actual y_test\", fontsize=12)\n",
    "plt.ylabel(\"Predicted values\", fontsize=12)\n",
    "plt.legend()\n",
    "plt.grid(True, linestyle='--', alpha=0.6)\n",
    "plt.show()"
   ]
  },
  {
   "cell_type": "markdown",
   "id": "9db28d53",
   "metadata": {},
   "source": [
    "## Loss"
   ]
  },
  {
   "cell_type": "code",
   "execution_count": 133,
   "id": "c4418327",
   "metadata": {},
   "outputs": [
    {
     "name": "stdout",
     "output_type": "stream",
     "text": [
      "0.07824997700671418\n"
     ]
    }
   ],
   "source": [
    "def mean_absolute_error(preds: ndarray, actuals: ndarray):\n",
    "    return np.mean(np.abs(preds-actuals))\n",
    "\n",
    "mae_loss = mean_absolute_error(preds, y_test)\n",
    "print(mae_loss)"
   ]
  },
  {
   "cell_type": "code",
   "execution_count": 134,
   "id": "e69354a8",
   "metadata": {},
   "outputs": [
    {
     "name": "stdout",
     "output_type": "stream",
     "text": [
      "0.07824997700671418\n"
     ]
    }
   ],
   "source": [
    "def root_mean_square_error(preds: ndarray, actuals: ndarray):\n",
    "    return np.sqrt(np.mean(np.power(preds-actuals, 2)))\n",
    "\n",
    "rmse_loss = mean_absolute_error(preds, y_test)\n",
    "print(rmse_loss)"
   ]
  }
 ],
 "metadata": {
  "kernelspec": {
   "display_name": ".dlfsvenv",
   "language": "python",
   "name": "python3"
  },
  "language_info": {
   "codemirror_mode": {
    "name": "ipython",
    "version": 3
   },
   "file_extension": ".py",
   "mimetype": "text/x-python",
   "name": "python",
   "nbconvert_exporter": "python",
   "pygments_lexer": "ipython3",
   "version": "3.13.1"
  }
 },
 "nbformat": 4,
 "nbformat_minor": 5
}
