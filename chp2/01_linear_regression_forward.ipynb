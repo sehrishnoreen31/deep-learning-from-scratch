{
 "cells": [
  {
   "cell_type": "code",
   "execution_count": 40,
   "id": "e2c4b5eb",
   "metadata": {},
   "outputs": [],
   "source": [
    "import numpy as np\n",
    "from numpy import ndarray\n",
    "from typing import Dict, Tuple"
   ]
  },
  {
   "cell_type": "code",
   "execution_count": 41,
   "id": "70e30005",
   "metadata": {},
   "outputs": [],
   "source": [
    "def linear_regression_forward(X_batch: ndarray,\n",
    "                              y_batch: ndarray,\n",
    "                              weights: Dict[str, ndarray]) -> Tuple[float, Dict[str, ndarray]]:\n",
    "    # input dimensions\n",
    "    assert X_batch.shape[0] == y_batch.shape[0]\n",
    "    assert X_batch.shape[1] == weights['W'].shape[0]\n",
    "    assert weights['B'].shape[0] == weights['B'].shape[1]\n",
    "    \n",
    "    # forward pass\n",
    "    N = np.dot(X_batch, weights['W'])\n",
    "    P = N + weights['B']\n",
    "    \n",
    "    # calculate loss\n",
    "    loss = np.mean(np.power(y_batch - P, 2))\n",
    "    \n",
    "    # save forward pass info\n",
    "    forward_info: Dict[str, ndarray] = {}\n",
    "    forward_info['X'] = X_batch\n",
    "    forward_info['P'] = P\n",
    "    forward_info['N'] = N \n",
    "    forward_info['y'] = y_batch\n",
    "    \n",
    "    return loss, forward_info"
   ]
  },
  {
   "cell_type": "code",
   "execution_count": 42,
   "id": "4e9e9826",
   "metadata": {},
   "outputs": [
    {
     "name": "stdout",
     "output_type": "stream",
     "text": [
      "Loss:  0.03333333333333335\n",
      "Forward Pass: \n"
     ]
    },
    {
     "data": {
      "text/plain": [
       "{'X': array([[0, 2],\n",
       "        [2, 5],\n",
       "        [3, 4]]),\n",
       " 'P': array([[0.3],\n",
       "        [1. ],\n",
       "        [1.1]]),\n",
       " 'N': array([[0.2],\n",
       "        [0.9],\n",
       "        [1. ]]),\n",
       " 'y': array([[0],\n",
       "        [1],\n",
       "        [1]])}"
      ]
     },
     "metadata": {},
     "output_type": "display_data"
    }
   ],
   "source": [
    "X = np.array([\n",
    "    [0,2],\n",
    "    [2,5],\n",
    "    [3,4]\n",
    "     ])\n",
    "\n",
    "y = np.array([\n",
    "    [0],\n",
    "    [1],\n",
    "    [1]\n",
    "     ])\n",
    "\n",
    "w = {\n",
    "    'W': np.array([\n",
    "        [0.2],\n",
    "        [0.1]\n",
    "        ]),\n",
    "    'B': np.array([[0.1]])\n",
    "}\n",
    "\n",
    "loss, forward_pass = linear_regression_forward(X, y, w)\n",
    "print('Loss: ', loss)\n",
    "print('Forward Pass: ');display(forward_pass)"
   ]
  },
  {
   "cell_type": "code",
   "execution_count": 45,
   "id": "485d3a1c",
   "metadata": {},
   "outputs": [
    {
     "name": "stdout",
     "output_type": "stream",
     "text": [
      "Loss:  1.675\n",
      "Forward Pass: \n"
     ]
    },
    {
     "data": {
      "text/plain": [
       "{'X': array([[3, 2],\n",
       "        [0, 4],\n",
       "        [5, 1],\n",
       "        [6, 3]]),\n",
       " 'P': array([[1.9],\n",
       "        [1.8],\n",
       "        [2.1],\n",
       "        [3.2]]),\n",
       " 'N': array([[1.7],\n",
       "        [1.6],\n",
       "        [1.9],\n",
       "        [3. ]]),\n",
       " 'y': array([[1],\n",
       "        [0],\n",
       "        [1],\n",
       "        [2]])}"
      ]
     },
     "metadata": {},
     "output_type": "display_data"
    }
   ],
   "source": [
    "X_new = np.array([\n",
    "    [3, 2],\n",
    "    [0, 4],\n",
    "    [5, 1],\n",
    "    [6, 3]\n",
    "])\n",
    "\n",
    "y_new = np.array([\n",
    "    [1],\n",
    "    [0],\n",
    "    [1],\n",
    "    [2]\n",
    "])\n",
    "\n",
    "w_new = {\n",
    "    'W': np.array([[0.3],\n",
    "                   [0.4]]),\n",
    "    'B': np.array([[0.2]])\n",
    "}\n",
    "\n",
    "loss, forward_pass = linear_regression_forward(X_new, y_new, w_new)\n",
    "print('Loss: ', loss)\n",
    "print('Forward Pass: ');display(forward_pass)"
   ]
  }
 ],
 "metadata": {
  "kernelspec": {
   "display_name": ".dlfsvenv",
   "language": "python",
   "name": "python3"
  },
  "language_info": {
   "codemirror_mode": {
    "name": "ipython",
    "version": 3
   },
   "file_extension": ".py",
   "mimetype": "text/x-python",
   "name": "python",
   "nbconvert_exporter": "python",
   "pygments_lexer": "ipython3",
   "version": "3.13.1"
  }
 },
 "nbformat": 4,
 "nbformat_minor": 5
}
