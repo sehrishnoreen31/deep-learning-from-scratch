{
 "cells": [
  {
   "cell_type": "code",
   "execution_count": 4,
   "id": "a793c21f",
   "metadata": {},
   "outputs": [],
   "source": [
    "import numpy as np\n",
    "from numpy import ndarray\n",
    "from typing import List, Callable"
   ]
  },
  {
   "cell_type": "code",
   "execution_count": 6,
   "id": "5a6c3576",
   "metadata": {},
   "outputs": [],
   "source": [
    "array_of_func = Callable[[ndarray], ndarray]\n",
    "chain = List[array_of_func]\n",
    "\n",
    "def chain_2(chain: chain, _input: ndarray)-> ndarray:\n",
    "    # length of chain must be 2\n",
    "    assert len(chain) == 2\n",
    "    f1 = chain[0]\n",
    "    f2 = chain[1]\n",
    "    \n",
    "    return f2(f1(_input))\n",
    "    "
   ]
  },
  {
   "cell_type": "code",
   "execution_count": 8,
   "id": "02a2fc56",
   "metadata": {},
   "outputs": [
    {
     "name": "stdout",
     "output_type": "stream",
     "text": [
      "[ 6 11 27]\n"
     ]
    }
   ],
   "source": [
    "def square(x: ndarray)-> ndarray:\n",
    "    return x**2\n",
    "def add_2(x: ndarray)-> ndarray:\n",
    "    return x+2\n",
    "chain_of_f = [square, add_2]\n",
    "\n",
    "# take square of x, than add 2 to it \n",
    "print(chain_2(chain_of_f, np.array([2,3,5])))"
   ]
  }
 ],
 "metadata": {
  "kernelspec": {
   "display_name": ".dlfsvenv",
   "language": "python",
   "name": "python3"
  },
  "language_info": {
   "codemirror_mode": {
    "name": "ipython",
    "version": 3
   },
   "file_extension": ".py",
   "mimetype": "text/x-python",
   "name": "python",
   "nbconvert_exporter": "python",
   "pygments_lexer": "ipython3",
   "version": "3.13.1"
  }
 },
 "nbformat": 4,
 "nbformat_minor": 5
}
