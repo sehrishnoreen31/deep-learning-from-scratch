{
 "cells": [
  {
   "cell_type": "code",
   "execution_count": 1,
   "id": "7a3e4af9",
   "metadata": {},
   "outputs": [],
   "source": [
    "import numpy as np\n",
    "from numpy import ndarray"
   ]
  },
  {
   "cell_type": "code",
   "execution_count": 2,
   "id": "f137dba7",
   "metadata": {},
   "outputs": [],
   "source": [
    "# python lists limitations\n",
    "a = [2,4,4]\n",
    "b = [3,4,3]\n",
    "# a * b # error"
   ]
  },
  {
   "cell_type": "code",
   "execution_count": 3,
   "id": "3019d578",
   "metadata": {},
   "outputs": [
    {
     "name": "stdout",
     "output_type": "stream",
     "text": [
      "[ 9 20  6]\n",
      "[1.   1.25 6.  ]\n"
     ]
    }
   ],
   "source": [
    "# with numpy arrays\n",
    "a = np.array([3,5,6])\n",
    "b = np.array([3,4,1])\n",
    "print(a * b)\n",
    "print(a / b)"
   ]
  },
  {
   "cell_type": "code",
   "execution_count": 4,
   "id": "89521dd5",
   "metadata": {},
   "outputs": [
    {
     "name": "stdout",
     "output_type": "stream",
     "text": [
      "x [7 7 9]\n",
      "y [15  8]\n"
     ]
    }
   ],
   "source": [
    "# numpy methods\n",
    "nums = np.array([\n",
    "    [3,5,7], \n",
    "    [4,2,2]])\n",
    "\n",
    "# sum along x-axis, add rows\n",
    "print('x', nums.sum(axis=0))\n",
    "\n",
    "# sum along y-axis, add cols\n",
    "print('y', nums.sum(axis=1))"
   ]
  },
  {
   "cell_type": "code",
   "execution_count": 5,
   "id": "784a7adb",
   "metadata": {},
   "outputs": [
    {
     "name": "stdout",
     "output_type": "stream",
     "text": [
      "[[ 6 11  9]\n",
      " [ 7  8  4]]\n"
     ]
    }
   ],
   "source": [
    "# NumPy ndarrays support adding a 1D array to the last axis\n",
    "\n",
    "nums1 = np.array([\n",
    "    [3,5,7], \n",
    "    [4,2,2]])\n",
    "nums2 = np.array([3,6,2])\n",
    "\n",
    "add = nums1 + nums2\n",
    "# adds num2 to both rows of num1\n",
    "\n",
    "print(add)"
   ]
  },
  {
   "cell_type": "code",
   "execution_count": 6,
   "id": "9d05e1eb",
   "metadata": {},
   "outputs": [
    {
     "name": "stdout",
     "output_type": "stream",
     "text": [
      "16\n",
      "3.0\n"
     ]
    }
   ],
   "source": [
    "# power\n",
    "def square(x: ndarray) -> ndarray:\n",
    "    return np.power(x, 2)\n",
    "print(square(4))\n",
    "\n",
    "# leaky_relu\n",
    "def leaky_relu(x: ndarray) -> ndarray:\n",
    "    return np.maximum(0.2*x, x)\n",
    "print(leaky_relu(3))"
   ]
  }
 ],
 "metadata": {
  "kernelspec": {
   "display_name": ".dlfsvenv",
   "language": "python",
   "name": "python3"
  },
  "language_info": {
   "codemirror_mode": {
    "name": "ipython",
    "version": 3
   },
   "file_extension": ".py",
   "mimetype": "text/x-python",
   "name": "python",
   "nbconvert_exporter": "python",
   "pygments_lexer": "ipython3",
   "version": "3.13.1"
  }
 },
 "nbformat": 4,
 "nbformat_minor": 5
}
