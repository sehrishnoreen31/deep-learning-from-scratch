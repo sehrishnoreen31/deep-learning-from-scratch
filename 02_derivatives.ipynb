{
 "cells": [
  {
   "cell_type": "code",
   "execution_count": 20,
   "id": "d53cce3b",
   "metadata": {},
   "outputs": [],
   "source": [
    "import numpy as np\n",
    "from numpy import ndarray\n",
    "from typing import Callable\n",
    "import math"
   ]
  },
  {
   "cell_type": "code",
   "execution_count": 34,
   "id": "0057d498",
   "metadata": {},
   "outputs": [],
   "source": [
    "def deriv(func: Callable[ndarray, [ndarray]], _input: ndarray, delta: float=0.001) -> ndarray:\n",
    "    return (func(_input + delta) - func(_input - delta))/ (delta * 2)"
   ]
  },
  {
   "cell_type": "code",
   "execution_count": 35,
   "id": "ffb2c49e",
   "metadata": {},
   "outputs": [
    {
     "name": "stdout",
     "output_type": "stream",
     "text": [
      "[4. 8. 8.]\n",
      "[3. 3. 3.]\n",
      "[1. 1. 1.]\n",
      "[0.3535534  0.50000006 0.25      ]\n",
      "[0.50000004 1.00000033 0.25000001]\n"
     ]
    }
   ],
   "source": [
    "print(deriv(func=lambda x: x**2, _input=np.array([2,4,4]))) # pow\n",
    "print(deriv(func=lambda a: 3*a+2, _input=np.array([2,0,4]))) # coeff\n",
    "print(deriv(func=lambda a: a+2, _input=np.array([2,0,4]))) # const\n",
    "print(deriv(func=lambda a: np.sqrt(a), _input=np.array([2,1,4]))) # sqrt\n",
    "print(deriv(func=lambda a: np.log(a), _input=np.array([2,1,4]))) # log"
   ]
  }
 ],
 "metadata": {
  "kernelspec": {
   "display_name": ".dlfsvenv",
   "language": "python",
   "name": "python3"
  },
  "language_info": {
   "codemirror_mode": {
    "name": "ipython",
    "version": 3
   },
   "file_extension": ".py",
   "mimetype": "text/x-python",
   "name": "python",
   "nbconvert_exporter": "python",
   "pygments_lexer": "ipython3",
   "version": "3.13.1"
  }
 },
 "nbformat": 4,
 "nbformat_minor": 5
}
